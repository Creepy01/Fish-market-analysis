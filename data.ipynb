{
 "cells": [
  {
   "cell_type": "markdown",
   "id": "193d1fb6",
   "metadata": {},
   "source": [
    "### **Importer les bibliotheques**"
   ]
  },
  {
   "cell_type": "code",
   "execution_count": 2,
   "id": "2499e888",
   "metadata": {},
   "outputs": [],
   "source": [
    "import pandas as pd\n",
    "import matplotlib.pyplot as plt\n",
    "import seaborn as sns"
   ]
  },
  {
   "cell_type": "markdown",
   "id": "213a648b",
   "metadata": {},
   "source": [
    "### **Importer la Data**"
   ]
  },
  {
   "cell_type": "code",
   "execution_count": 3,
   "id": "3397fc91",
   "metadata": {},
   "outputs": [],
   "source": [
    "data=pd.read_csv('data2.csv')"
   ]
  },
  {
   "cell_type": "markdown",
   "id": "2993ceec",
   "metadata": {},
   "source": [
    "### **Explorer**"
   ]
  },
  {
   "cell_type": "code",
   "execution_count": 4,
   "id": "80b45332",
   "metadata": {},
   "outputs": [
    {
     "name": "stdout",
     "output_type": "stream",
     "text": [
      "<class 'pandas.core.frame.DataFrame'>\n",
      "RangeIndex: 159 entries, 0 to 158\n",
      "Data columns (total 7 columns):\n",
      " #   Column   Non-Null Count  Dtype  \n",
      "---  ------   --------------  -----  \n",
      " 0   Species  159 non-null    object \n",
      " 1   Weight   159 non-null    float64\n",
      " 2   Length1  159 non-null    float64\n",
      " 3   Length2  159 non-null    float64\n",
      " 4   Length3  159 non-null    float64\n",
      " 5   Height   159 non-null    float64\n",
      " 6   Width    159 non-null    float64\n",
      "dtypes: float64(6), object(1)\n",
      "memory usage: 8.8+ KB\n"
     ]
    }
   ],
   "source": [
    "data.info()"
   ]
  },
  {
   "cell_type": "code",
   "execution_count": 5,
   "id": "d38d671a",
   "metadata": {},
   "outputs": [
    {
     "data": {
      "text/html": [
       "<div>\n",
       "<style scoped>\n",
       "    .dataframe tbody tr th:only-of-type {\n",
       "        vertical-align: middle;\n",
       "    }\n",
       "\n",
       "    .dataframe tbody tr th {\n",
       "        vertical-align: top;\n",
       "    }\n",
       "\n",
       "    .dataframe thead th {\n",
       "        text-align: right;\n",
       "    }\n",
       "</style>\n",
       "<table border=\"1\" class=\"dataframe\">\n",
       "  <thead>\n",
       "    <tr style=\"text-align: right;\">\n",
       "      <th></th>\n",
       "      <th>Species</th>\n",
       "      <th>Weight</th>\n",
       "      <th>Length1</th>\n",
       "      <th>Length2</th>\n",
       "      <th>Length3</th>\n",
       "      <th>Height</th>\n",
       "      <th>Width</th>\n",
       "    </tr>\n",
       "  </thead>\n",
       "  <tbody>\n",
       "    <tr>\n",
       "      <th>0</th>\n",
       "      <td>Bream</td>\n",
       "      <td>242.0</td>\n",
       "      <td>23.2</td>\n",
       "      <td>25.4</td>\n",
       "      <td>30.0</td>\n",
       "      <td>11.5200</td>\n",
       "      <td>4.0200</td>\n",
       "    </tr>\n",
       "    <tr>\n",
       "      <th>1</th>\n",
       "      <td>Bream</td>\n",
       "      <td>290.0</td>\n",
       "      <td>24.0</td>\n",
       "      <td>26.3</td>\n",
       "      <td>31.2</td>\n",
       "      <td>12.4800</td>\n",
       "      <td>4.3056</td>\n",
       "    </tr>\n",
       "    <tr>\n",
       "      <th>2</th>\n",
       "      <td>Bream</td>\n",
       "      <td>340.0</td>\n",
       "      <td>23.9</td>\n",
       "      <td>26.5</td>\n",
       "      <td>31.1</td>\n",
       "      <td>12.3778</td>\n",
       "      <td>4.6961</td>\n",
       "    </tr>\n",
       "    <tr>\n",
       "      <th>3</th>\n",
       "      <td>Bream</td>\n",
       "      <td>363.0</td>\n",
       "      <td>26.3</td>\n",
       "      <td>29.0</td>\n",
       "      <td>33.5</td>\n",
       "      <td>12.7300</td>\n",
       "      <td>4.4555</td>\n",
       "    </tr>\n",
       "    <tr>\n",
       "      <th>4</th>\n",
       "      <td>Bream</td>\n",
       "      <td>430.0</td>\n",
       "      <td>26.5</td>\n",
       "      <td>29.0</td>\n",
       "      <td>34.0</td>\n",
       "      <td>12.4440</td>\n",
       "      <td>5.1340</td>\n",
       "    </tr>\n",
       "  </tbody>\n",
       "</table>\n",
       "</div>"
      ],
      "text/plain": [
       "  Species  Weight  Length1  Length2  Length3   Height   Width\n",
       "0   Bream   242.0     23.2     25.4     30.0  11.5200  4.0200\n",
       "1   Bream   290.0     24.0     26.3     31.2  12.4800  4.3056\n",
       "2   Bream   340.0     23.9     26.5     31.1  12.3778  4.6961\n",
       "3   Bream   363.0     26.3     29.0     33.5  12.7300  4.4555\n",
       "4   Bream   430.0     26.5     29.0     34.0  12.4440  5.1340"
      ]
     },
     "execution_count": 5,
     "metadata": {},
     "output_type": "execute_result"
    }
   ],
   "source": [
    "data.head()"
   ]
  },
  {
   "cell_type": "code",
   "execution_count": 6,
   "id": "439cade9",
   "metadata": {},
   "outputs": [
    {
     "data": {
      "text/html": [
       "<div>\n",
       "<style scoped>\n",
       "    .dataframe tbody tr th:only-of-type {\n",
       "        vertical-align: middle;\n",
       "    }\n",
       "\n",
       "    .dataframe tbody tr th {\n",
       "        vertical-align: top;\n",
       "    }\n",
       "\n",
       "    .dataframe thead th {\n",
       "        text-align: right;\n",
       "    }\n",
       "</style>\n",
       "<table border=\"1\" class=\"dataframe\">\n",
       "  <thead>\n",
       "    <tr style=\"text-align: right;\">\n",
       "      <th></th>\n",
       "      <th>Weight</th>\n",
       "      <th>Length1</th>\n",
       "      <th>Length2</th>\n",
       "      <th>Length3</th>\n",
       "      <th>Height</th>\n",
       "      <th>Width</th>\n",
       "    </tr>\n",
       "  </thead>\n",
       "  <tbody>\n",
       "    <tr>\n",
       "      <th>count</th>\n",
       "      <td>159.000000</td>\n",
       "      <td>159.000000</td>\n",
       "      <td>159.000000</td>\n",
       "      <td>159.000000</td>\n",
       "      <td>159.000000</td>\n",
       "      <td>159.000000</td>\n",
       "    </tr>\n",
       "    <tr>\n",
       "      <th>mean</th>\n",
       "      <td>398.326415</td>\n",
       "      <td>26.247170</td>\n",
       "      <td>28.415723</td>\n",
       "      <td>31.227044</td>\n",
       "      <td>8.970994</td>\n",
       "      <td>4.417486</td>\n",
       "    </tr>\n",
       "    <tr>\n",
       "      <th>std</th>\n",
       "      <td>357.978317</td>\n",
       "      <td>9.996441</td>\n",
       "      <td>10.716328</td>\n",
       "      <td>11.610246</td>\n",
       "      <td>4.286208</td>\n",
       "      <td>1.685804</td>\n",
       "    </tr>\n",
       "    <tr>\n",
       "      <th>min</th>\n",
       "      <td>0.000000</td>\n",
       "      <td>7.500000</td>\n",
       "      <td>8.400000</td>\n",
       "      <td>8.800000</td>\n",
       "      <td>1.728400</td>\n",
       "      <td>1.047600</td>\n",
       "    </tr>\n",
       "    <tr>\n",
       "      <th>25%</th>\n",
       "      <td>120.000000</td>\n",
       "      <td>19.050000</td>\n",
       "      <td>21.000000</td>\n",
       "      <td>23.150000</td>\n",
       "      <td>5.944800</td>\n",
       "      <td>3.385650</td>\n",
       "    </tr>\n",
       "    <tr>\n",
       "      <th>50%</th>\n",
       "      <td>273.000000</td>\n",
       "      <td>25.200000</td>\n",
       "      <td>27.300000</td>\n",
       "      <td>29.400000</td>\n",
       "      <td>7.786000</td>\n",
       "      <td>4.248500</td>\n",
       "    </tr>\n",
       "    <tr>\n",
       "      <th>75%</th>\n",
       "      <td>650.000000</td>\n",
       "      <td>32.700000</td>\n",
       "      <td>35.500000</td>\n",
       "      <td>39.650000</td>\n",
       "      <td>12.365900</td>\n",
       "      <td>5.584500</td>\n",
       "    </tr>\n",
       "    <tr>\n",
       "      <th>max</th>\n",
       "      <td>1650.000000</td>\n",
       "      <td>59.000000</td>\n",
       "      <td>63.400000</td>\n",
       "      <td>68.000000</td>\n",
       "      <td>18.957000</td>\n",
       "      <td>8.142000</td>\n",
       "    </tr>\n",
       "  </tbody>\n",
       "</table>\n",
       "</div>"
      ],
      "text/plain": [
       "            Weight     Length1     Length2     Length3      Height       Width\n",
       "count   159.000000  159.000000  159.000000  159.000000  159.000000  159.000000\n",
       "mean    398.326415   26.247170   28.415723   31.227044    8.970994    4.417486\n",
       "std     357.978317    9.996441   10.716328   11.610246    4.286208    1.685804\n",
       "min       0.000000    7.500000    8.400000    8.800000    1.728400    1.047600\n",
       "25%     120.000000   19.050000   21.000000   23.150000    5.944800    3.385650\n",
       "50%     273.000000   25.200000   27.300000   29.400000    7.786000    4.248500\n",
       "75%     650.000000   32.700000   35.500000   39.650000   12.365900    5.584500\n",
       "max    1650.000000   59.000000   63.400000   68.000000   18.957000    8.142000"
      ]
     },
     "execution_count": 6,
     "metadata": {},
     "output_type": "execute_result"
    }
   ],
   "source": [
    "data.describe()"
   ]
  },
  {
   "cell_type": "code",
   "execution_count": 11,
   "id": "4488e9d2",
   "metadata": {},
   "outputs": [
    {
     "name": "stdout",
     "output_type": "stream",
     "text": [
      "Amount of fish caught :  159\n"
     ]
    }
   ],
   "source": [
    "data.value_counts(\"Species\")\n",
    "print('Amount of fish caught : ', data.value_counts(\"Species\").sum())"
   ]
  },
  {
   "cell_type": "code",
   "execution_count": 20,
   "id": "b17b1a56",
   "metadata": {},
   "outputs": [
    {
     "data": {
      "image/png": "[encoded data removed]",
      "text/plain": [
       "<Figure size 640x480 with 1 Axes>"
      ]
     },
     "metadata": {},
     "output_type": "display_data"
    },
    {
     "name": "stdout",
     "output_type": "stream",
     "text": [
      "The most frequent species in the catch is :  Perch with  56  caught\n"
     ]
    }
   ],
   "source": [
    "sns.histplot(data=data, x=\"Species\")\n",
    "plt.show()\n",
    "print('The most frequent species in the catch is : ', data.value_counts(\"Species\").idxmax(),'with ', data.value_counts(\"Species\").max(),' caught')"
   ]
  },
  {
   "cell_type": "code",
   "execution_count": null,
   "id": "29f1e220",
   "metadata": {},
   "outputs": [
    {
     "data": {
      "image/png": "[encoded data removed]",
      "text/plain": [
       "<Figure size 640x480 with 1 Axes>"
      ]
     },
     "metadata": {},
     "output_type": "display_data"
    }
   ],
   "source": [
    "sns.histplot(data=data, x=\"Species\", y=\"Weight\")\n",
    "plt.show()"
   ]
  },
  {
   "cell_type": "code",
   "execution_count": null,
   "id": "e4f010be",
   "metadata": {},
   "outputs": [
    {
     "data": {
      "text/plain": [
       "<Axes: xlabel='Species', ylabel='Length1'>"
      ]
     },
     "execution_count": 35,
     "metadata": {},
     "output_type": "execute_result"
    },
    {
     "data": {
      "image/png": "[encoded data removed]",
      "text/plain": [
       "<Figure size 640x480 with 1 Axes>"
      ]
     },
     "metadata": {},
     "output_type": "display_data"
    }
   ],
   "source": [
    "sns.histplot(data=data, x=\"Species\", y=\"Length1\")"
   ]
  },
  {
   "cell_type": "code",
   "execution_count": null,
   "id": "cd8c4e7b",
   "metadata": {},
   "outputs": [
    {
     "data": {
      "text/plain": [
       "<Axes: xlabel='Species', ylabel='Length2'>"
      ]
     },
     "execution_count": 36,
     "metadata": {},
     "output_type": "execute_result"
    },
    {
     "data": {
      "image/png": "[encoded data removed]",
      "text/plain": [
       "<Figure size 640x480 with 1 Axes>"
      ]
     },
     "metadata": {},
     "output_type": "display_data"
    }
   ],
   "source": [
    "sns.histplot(data=data, x=\"Species\", y=\"Length2\")"
   ]
  },
  {
   "cell_type": "code",
   "execution_count": 21,
   "id": "b7ef498c",
   "metadata": {},
   "outputs": [
    {
     "name": "stdout",
     "output_type": "stream",
     "text": [
      "           max_weight  max_Length1  max_Length2  max_Length3  max_Height  \\\n",
      "Species                                                                    \n",
      "Bream          1000.0         38.0         41.0         46.5     18.9570   \n",
      "Parkki          300.0         24.0         26.0         29.0     11.3680   \n",
      "Perch          1100.0         41.1         44.0         46.6     12.8002   \n",
      "Pike           1650.0         59.0         63.4         68.0     10.8120   \n",
      "Roach           390.0         29.5         31.7         35.0      9.4850   \n",
      "Smelt            19.9         13.8         15.0         16.2      2.9322   \n",
      "Whitefish      1000.0         37.3         40.0         43.5     12.3540   \n",
      "\n",
      "           max_width  \n",
      "Species               \n",
      "Bream         6.7497  \n",
      "Parkki        4.2340  \n",
      "Perch         8.1420  \n",
      "Pike          7.4800  \n",
      "Roach         5.3550  \n",
      "Smelt         2.0672  \n",
      "Whitefish     6.5736  \n"
     ]
    },
    {
     "data": {
      "image/png": "[encoded data removed]",
      "text/plain": [
       "<Figure size 640x480 with 1 Axes>"
      ]
     },
     "metadata": {},
     "output_type": "display_data"
    }
   ],
   "source": [
    "sns.histplot(data=data, x=\"Species\", y=\"Weight\")\n",
    "print(data.groupby('Species').agg(max_weight=(\"Weight\",\"max\"),max_Length1=(\"Length1\",\"max\"),max_Length2=(\"Length2\",\"max\"),max_Length3=(\"Length3\",\"max\"),max_Height=(\"Height\",\"max\"),max_width=(\"Width\",\"max\")))"
   ]
  },
  {
   "cell_type": "code",
   "execution_count": null,
   "id": "325022f7",
   "metadata": {},
   "outputs": [
    {
     "name": "stdout",
     "output_type": "stream",
     "text": [
      "           mean_weight  mean_Length1  mean_Length2  mean_Height  mean_width\n",
      "Species                                                                    \n",
      "Bream       617.828571     30.305714     33.108571    15.183211    5.427614\n",
      "Parkki      154.818182     18.727273     20.345455     8.962427    3.220736\n",
      "Perch       382.239286     25.735714     27.892857     7.861870    4.745723\n",
      "Pike        718.705882     42.476471     45.482353     7.713771    5.086382\n",
      "Roach       152.050000     20.645000     22.275000     6.694795    3.657850\n",
      "Smelt        11.178571     11.257143     11.921429     2.209371    1.340093\n",
      "Whitefish   531.000000     28.800000     31.316667    10.027167    5.473050\n",
      "              var_weight  var_Length1  var_Length2  var_Height  var_width\n",
      "Species                                                                  \n",
      "Bream       43767.028571    12.914672    15.303160    3.860073   0.520575\n",
      "Parkki       6202.363636    10.790182    12.654727    2.610325   0.413896\n",
      "Perch      120838.077338    73.300519    81.390494    8.283902   3.149298\n",
      "Pike       244175.095588    81.524412    94.364044    2.769654   1.300213\n",
      "Roach        7890.576316    11.971026    13.336711    1.590605   0.476612\n",
      "Smelt          17.069505     1.479560     2.051044    0.123750   0.082146\n",
      "Whitefish   95854.000000    31.144000    32.761667    3.349636   1.426253\n",
      "           std_weight  std_Length1  std_Length2  std_Height  std_width\n",
      "Species                                                               \n",
      "Bream      209.205709     3.593699     3.911925    1.964707   0.721509\n",
      "Parkki      78.755086     3.284841     3.557348    1.615650   0.643347\n",
      "Perch      347.617717     8.561572     9.021668    2.878177   1.774626\n",
      "Pike       494.140765     9.029087     9.714116    1.664228   1.140269\n",
      "Roach       88.828916     3.459917     3.651946    1.261192   0.690371\n",
      "Smelt        4.131526     1.216372     1.432147    0.351780   0.286611\n",
      "Whitefish  309.602972     5.580681     5.723781    1.830201   1.194258\n"
     ]
    }
   ],
   "source": [
    "print(data.groupby('Species').agg(mean_weight=(\"Weight\",\"mean\"),mean_Length1=(\"Length1\",\"mean\"),mean_Length2=(\"Length2\",\"mean\"),mean_Height=(\"Height\",\"mean\"),mean_width=(\"Width\",\"mean\")))\n",
    "print(data.groupby('Species').agg(var_weight=(\"Weight\",\"var\"),var_Length1=(\"Length1\",\"var\"),var_Length2=(\"Length2\",\"var\"),var_Height=(\"Height\",\"var\"),var_width=(\"Width\",\"var\")))\n",
    "print(data.groupby('Species').agg(std_weight=(\"Weight\",\"std\"),std_Length1=(\"Length1\",\"std\"),std_Length2=(\"Length2\",\"std\"),std_Height=(\"Height\",\"std\"),std_width=(\"Width\",\"std\")))"
   ]
  },
  {
   "cell_type": "code",
   "execution_count": null,
   "id": "9a71dc6d",
   "metadata": {},
   "outputs": [
    {
     "name": "stdout",
     "output_type": "stream",
     "text": [
      "           max_weight  max_Length1  max_Length2  max_Height  max_width\n",
      "Species                                                               \n",
      "Bream          1000.0         38.0         41.0     18.9570     6.7497\n",
      "Parkki          300.0         24.0         26.0     11.3680     4.2340\n",
      "Perch          1100.0         41.1         44.0     12.8002     8.1420\n",
      "Pike           1650.0         59.0         63.4     10.8120     7.4800\n",
      "Roach           390.0         29.5         31.7      9.4850     5.3550\n",
      "Smelt            19.9         13.8         15.0      2.9322     2.0672\n",
      "Whitefish      1000.0         37.3         40.0     12.3540     6.5736\n",
      "           min_weight  min_Length1  min_Length2  min_Height  min_width\n",
      "Species                                                               \n",
      "Bream           242.0         23.2         25.4     11.5200     4.0200\n",
      "Parkki           55.0         13.5         14.7      6.5772     2.3142\n",
      "Perch             5.9          7.5          8.4      2.1120     1.4080\n",
      "Pike            200.0         30.0         32.3      5.5680     3.3756\n",
      "Roach             0.0         12.9         14.1      4.1472     2.2680\n",
      "Smelt             6.7          9.3          9.8      1.7284     1.0476\n",
      "Whitefish       270.0         23.6         26.0      8.1454     4.2476\n"
     ]
    }
   ],
   "source": [
    "\n",
    "print(data.groupby('Species').agg(min_weight=(\"Weight\",\"min\"),min_Length1=(\"Length1\",\"min\"),min_Length2=(\"Length2\",\"min\"),min_Height=(\"Height\",\"min\"),min_width=(\"Width\",\"min\")))\n"
   ]
  }
 ],
 "metadata": {
  "kernelspec": {
   "display_name": ".venv",
   "language": "python",
   "name": "python3"
  },
  "language_info": {
   "codemirror_mode": {
    "name": "ipython",
    "version": 3
   },
   "file_extension": ".py",
   "mimetype": "text/x-python",
   "name": "python",
   "nbconvert_exporter": "python",
   "pygments_lexer": "ipython3",
   "version": "3.13.3"
  }
 },
 "nbformat": 4,
 "nbformat_minor": 5
}
